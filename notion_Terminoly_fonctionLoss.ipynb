{
  "nbformat": 4,
  "nbformat_minor": 0,
  "metadata": {
    "colab": {
      "provenance": [],
      "authorship_tag": "ABX9TyP5nPnITdDyNhBhkNmloEMZ",
      "include_colab_link": true
    },
    "kernelspec": {
      "name": "python3",
      "display_name": "Python 3"
    },
    "language_info": {
      "name": "python"
    }
  },
  "cells": [
    {
      "cell_type": "markdown",
      "metadata": {
        "id": "view-in-github",
        "colab_type": "text"
      },
      "source": [
        "<a href=\"https://colab.research.google.com/github/tchotaneu/Supervised_learning/blob/main/notion_Terminoly_fonctionLoss.ipynb\" target=\"_parent\"><img src=\"https://colab.research.google.com/assets/colab-badge.svg\" alt=\"Open In Colab\"/></a>"
      ]
    },
    {
      "cell_type": "markdown",
      "source": [
        "**Explication des fonctions de perte courantes à l'aide d'exemples simples**"
      ],
      "metadata": {
        "id": "2oyhCcRBcjwi"
      }
    },
    {
      "cell_type": "code",
      "execution_count": 3,
      "metadata": {
        "colab": {
          "base_uri": "https://localhost:8080/"
        },
        "id": "fS3hvj6JcYjo",
        "outputId": "02abc8e3-62a3-47d7-8672-71c4fdf5380b"
      },
      "outputs": [
        {
          "output_type": "stream",
          "name": "stdout",
          "text": [
            "0.09099999999999993\n",
            "0.15600000000000014\n"
          ]
        }
      ],
      "source": [
        "# Erreur quadratique moyenne - utilisée dans les problèmes de régression\n",
        "# Moyenne des distances au carré entre les valeurs réelles et les valeurs prédites\n",
        "# Cette valeur de perte est minimisée au cours du processus de formation d'un réseau neuronal.\n",
        "\n",
        "actual = [1.2, 2.3, 3, 4.5, 5.2, 6.3, 6.9, 8.4, 9.1, 9.9]\n",
        "predicted1 = [1.1, 2.1, 3.3, 4.2, 4.9, 6., 7.2, 8., 9.5, 10.2]\n",
        "predicted2 = [0.8, 2., 2.6, 4.8, 5.7, 6.1, 6.5, 7.8, 9.5, 9.6]\n",
        "\n",
        "def mean_squared_error(actual, predicted):\n",
        "\tsum_square_error = 0.0\n",
        "\tfor i in range(len(actual)):\n",
        "\t\tsum_square_error += (actual[i] - predicted[i])**2.0\n",
        "\tmean_square_error = sum_square_error/ len(actual)\n",
        "\treturn mean_square_error\n",
        "\n",
        "print(mean_squared_error(actual, predicted1))\n",
        "print(mean_squared_error(actual, predicted2))"
      ]
    }
  ]
}